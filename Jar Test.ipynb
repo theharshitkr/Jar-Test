{
 "cells": [
  {
   "cell_type": "code",
   "execution_count": 6,
   "id": "f57a6f26-289a-43f4-8e1a-953fa6833b40",
   "metadata": {},
   "outputs": [],
   "source": [
    "# Load the dataset\n",
    "df = pd.read_excel(r'C:\\Users\\Harshit\\Documents\\Python Test\\Walmart Sales.xlsx')"
   ]
  },
  {
   "cell_type": "code",
   "execution_count": 7,
   "id": "cb76f50c-046a-4566-8377-5e107a597334",
   "metadata": {},
   "outputs": [
    {
     "name": "stdout",
     "output_type": "stream",
     "text": [
      "Performance of sales and revenue at the city and branch level:\n",
      "        City Branch  Total Quantity Sold  Total Revenue  Average Rating\n",
      "0   Mandalay      A                  637        6349.11        6.715966\n",
      "1   Mandalay      B                  664        6623.73        6.965254\n",
      "2   Mandalay      C                  519        5506.04        6.763158\n",
      "3  Naypyitaw      A                  648        5953.55        7.073636\n",
      "4  Naypyitaw      B                  604        6298.64        7.134862\n",
      "5  Naypyitaw      C                  579        6315.57        7.010092\n",
      "6     Yangon      A                  598        6342.88        7.066667\n",
      "7     Yangon      B                  631        6329.25        6.998230\n",
      "8     Yangon      C                  630        5953.36        7.015929\n"
     ]
    }
   ],
   "source": [
    "# A. Analyze the performance of sales and revenue at the city and branch level\n",
    "city_branch_sales = df.groupby(['City', 'Branch']).agg({'Quantity': 'sum', 'Unit price': 'sum', 'Rating': 'mean'}).reset_index()\n",
    "city_branch_sales.columns = ['City', 'Branch', 'Total Quantity Sold', 'Total Revenue', 'Average Rating']\n",
    "print(\"Performance of sales and revenue at the city and branch level:\")\n",
    "print(city_branch_sales)"
   ]
  },
  {
   "cell_type": "code",
   "execution_count": 8,
   "id": "1463fa5a-9acd-4558-a6ed-a27f079ee8e3",
   "metadata": {},
   "outputs": [
    {
     "name": "stdout",
     "output_type": "stream",
     "text": [
      "\n",
      "Average price of an item sold at each branch of the city:\n",
      "        City Branch  Average Price\n",
      "0   Mandalay      A      53.353866\n",
      "1   Mandalay      B      56.133305\n",
      "2   Mandalay      C      57.958316\n",
      "3  Naypyitaw      A      54.123182\n",
      "4  Naypyitaw      B      57.785688\n",
      "5  Naypyitaw      C      57.941009\n",
      "6     Yangon      A      55.639298\n",
      "7     Yangon      B      56.011062\n",
      "8     Yangon      C      52.684602\n"
     ]
    }
   ],
   "source": [
    "# B. What is the average price of an item sold at each branch of the city\n",
    "avg_price_per_branch = df.groupby(['City', 'Branch']).agg({'Unit price': 'mean'}).reset_index()\n",
    "avg_price_per_branch.columns = ['City', 'Branch', 'Average Price']\n",
    "print(\"\\nAverage price of an item sold at each branch of the city:\")\n",
    "print(avg_price_per_branch)\n"
   ]
  },
  {
   "cell_type": "code",
   "execution_count": null,
   "id": "fb314396-8c73-48a0-882d-22ed7d84194a",
   "metadata": {},
   "outputs": [],
   "source": [
    "## Product Optimisation: Increasing 'Spin to Win' Game Engagement\n",
    "\n",
    "To increase the number of people who play the 'Spin to Win' game, consider the following strategies:\n",
    "\n",
    "1. **Promotions and Incentives:** Offer special promotions or incentives for playing the game, such as discounts, exclusive offers, or bonus points.\n",
    "\n",
    "2. **Improved Visibility:** Make the 'Spin to Win' feature more prominent within the app, perhaps by placing it on the home screen or using notifications to remind users to play.\n",
    "\n",
    "3. **Personalization:** Use data analytics to personalize the game experience for each user, such as offering prizes based on their interests or previous interactions with the app.\n",
    "\n",
    "4. **Social Sharing:** Encourage users to share their game results on social media, which can attract more users to try the game.\n",
    "\n",
    "5. **Gamification:** Add elements of gamification to the app, such as leaderboards, achievements, or levels, to make the game more engaging and competitive.\n",
    "\n",
    "6. **User Feedback:** Collect feedback from users who have played the game to understand their experience and make improvements based on their suggestions.\n",
    "\n",
    "7. **Marketing Campaigns:** Launch targeted marketing campaigns to promote the 'Spin to Win' feature and its benefits to the users.\n",
    "\n",
    "By implementing these strategies, you can increase the number of people who play the 'Spin to Win' game and improve user engagement on the app.\n"
   ]
  }
 ],
 "metadata": {
  "kernelspec": {
   "display_name": "Python 3 (ipykernel)",
   "language": "python",
   "name": "python3"
  },
  "language_info": {
   "codemirror_mode": {
    "name": "ipython",
    "version": 3
   },
   "file_extension": ".py",
   "mimetype": "text/x-python",
   "name": "python",
   "nbconvert_exporter": "python",
   "pygments_lexer": "ipython3",
   "version": "3.12.3"
  }
 },
 "nbformat": 4,
 "nbformat_minor": 5
}
